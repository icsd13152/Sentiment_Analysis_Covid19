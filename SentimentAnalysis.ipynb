{
 "cells": [
  {
   "cell_type": "markdown",
   "id": "08729a88",
   "metadata": {},
   "source": [
    "# Sentiment Analysis of Covid-19 Tweets"
   ]
  },
  {
   "cell_type": "markdown",
   "id": "7e3ac6bb",
   "metadata": {},
   "source": [
    "# # Abstract\n",
    "Κατά την διάρκεια της πανδημίας, πολλοί χρήστες του Twitter Δημοσιεύουν διάφορα Posts που αποτελούν την γνώμη του σχετικά με τον Covid-19. Θα ήταν καλό να γνωρίζουμε το συναίσθημα που προκύπτει από το κάθε post, προκειμένου να δούμε κατά πόσο έχει επηρεαστεί η ψυχολογία του εκάστοτε χρήστη."
   ]
  },
  {
   "cell_type": "markdown",
   "id": "0bca1665",
   "metadata": {},
   "source": [
    "Τα δεδομένα που χρησιμοποιήθηκαν κατα τις training/validation διαδικασίες μπορεί κανείς να τα βρεί στο Kaggle στο παρακάτω URL:\n",
    "https://www.kaggle.com/gauravsahani/covid-19-sentiment-analysis-using-spacy/data\n",
    "\n",
    "Μπορούμε να κατεβάσουμε τα δεδομένα με την παρακάτω command:\n",
    "\n",
    "$ kaggle kernels output gauravsahani/covid-19-sentiment-analysis-using-spacy -p /path/to/dest\n"
   ]
  },
  {
   "cell_type": "markdown",
   "id": "baa784d0",
   "metadata": {},
   "source": [
    "# # Data Processing\n",
    "Παρακάτω αφού έχουμε κατεβάσει τα δεδομένα απο το Kaggle, διαβάζουμε το csv file το οποίο αφορά τα δεδομένα του Training.\n",
    "Όπως θα παρατηρήσουμε στο Kaggle τα δεδομένα μας είναι χωρισμένα σε 2 csv αρχεία. Ένα Train και ένα Test.\n",
    "Έτσι λοιπόν αφού κάνουμε import τις απαραίτητες βιβλιοθήκες που θα χρειαστούμε μπορούμε να διαβάσουμε τα csv."
   ]
  },
  {
   "cell_type": "code",
   "execution_count": 6,
   "id": "fa2cfb60",
   "metadata": {},
   "outputs": [
    {
     "name": "stdout",
     "output_type": "stream",
     "text": [
      "   UserName  ScreenName   Location     TweetAt  \\\n",
      "0      3799       48751     London  16-03-2020   \n",
      "1      3800       48752         UK  16-03-2020   \n",
      "2      3801       48753  Vagabonds  16-03-2020   \n",
      "3      3802       48754        NaN  16-03-2020   \n",
      "4      3803       48755        NaN  16-03-2020   \n",
      "\n",
      "                                       OriginalTweet           Sentiment  \n",
      "0  @MeNyrbie @Phil_Gahan @Chrisitv https://t.co/i...             Neutral  \n",
      "1  advice Talk to your neighbours family to excha...            Positive  \n",
      "2  Coronavirus Australia: Woolworths to give elde...            Positive  \n",
      "3  My food stock is not the only one which is emp...            Positive  \n",
      "4  Me, ready to go at supermarket during the #COV...  Extremely Negative  \n"
     ]
    }
   ],
   "source": [
    "import itertools\n",
    "import numpy as np\n",
    "import pandas as pd\n",
    "import matplotlib.pyplot as plt\n",
    "from sklearn.feature_extraction.text import TfidfVectorizer, CountVectorizer\n",
    "from sklearn import feature_extraction, model_selection, naive_bayes, metrics, svm\n",
    "import nltk\n",
    "from nltk.corpus import  wordnet\n",
    "# nltk.download('wordnet')\n",
    "from nltk import FreqDist, PorterStemmer, SnowballStemmer, Counter\n",
    "from nltk.corpus import stopwords\n",
    "from nltk.stem import WordNetLemmatizer\n",
    "import joblib\n",
    "import time\n",
    "from sklearn.model_selection import GridSearchCV\n",
    "import seaborn as sns\n",
    "from sklearn import feature_selection\n",
    "\n",
    "data = pd.read_csv(r\"Corona_NLP_train.csv\", encoding='ansi')\n",
    "print(data.head(5))"
   ]
  },
  {
   "cell_type": "markdown",
   "id": "16e8d259",
   "metadata": {},
   "source": [
    "Αφού διαβάσαμε τα δεδομένα απο το CSV αρχείο και τα φέραμε σε ένα DataFrame ακολουθεί η επεξεργασια αυτών και η διερεύνηση για το τι δεδομένα έχουμε."
   ]
  },
  {
   "cell_type": "code",
   "execution_count": 7,
   "id": "4b8005d6",
   "metadata": {},
   "outputs": [
    {
     "data": {
      "image/png": "[encoded data removed]",
      "text/plain": [
       "<Figure size 432x288 with 1 Axes>"
      ]
     },
     "metadata": {
      "needs_background": "light"
     },
     "output_type": "display_data"
    }
   ],
   "source": [
    "data[\"Sentiment\"] = data[\"Sentiment\"].replace('Extremely Negative', 'Negative', regex=True)\n",
    "\n",
    "data[\"Sentiment\"] = data[\"Sentiment\"].replace('Extremely Positive', 'Positive', regex=True)\n",
    "\n",
    "#transform Sentiment to number\n",
    "#negative=0\n",
    "#postive=1\n",
    "#neutral=2\n",
    "data[\"Sentiment\"]=data[\"Sentiment\"].replace('Negative', -1, regex=True)\n",
    "data[\"Sentiment\"]=data[\"Sentiment\"].replace('Positive', 1, regex=True)\n",
    "data[\"Sentiment\"]=data[\"Sentiment\"].replace('Neutral', 0, regex=True)\n",
    "\n",
    "\n",
    "\n",
    "plt.hist(data[\"Sentiment\"])\n",
    "plt.show()\n"
   ]
  },
  {
   "cell_type": "markdown",
   "id": "e79db5f6",
   "metadata": {},
   "source": [
    "Όπως μπορούμε να δούμε για την Class = Negative = -1 έχουμε περίπου 15.500 samples. Ομοίως για τη Class = Positive = 1 έχουμε περίπου 17.500 samples. Τέλος για την Class = Neutral = 0 έχουμε περίπου 7.500 samples."
   ]
  },
  {
   "cell_type": "markdown",
   "id": "8aa0b246",
   "metadata": {},
   "source": [
    "## Ακολουθεί η διαδικασία του Processing:\n",
    "Μετά απο πολύ ψάξιμο εντός των δεδομένων παρατήρησα οτι έχουμε κάποιες περίεργες λέξεις και κάποιες λέξεις με απόστροφο. \n",
    "Επίσης είναι λογικό σε ένα tweet να βρει κανείς και emojis/emoticons. Όλα αυτά αποθηκεύτηκαν σε κάποια dictionariesμε σκοπό να κάνουμε lookups\n",
    "για να μπρούμε να τα αντικαθιστούμε ή να τα διαγράφουμε."
   ]
  },
  {
   "cell_type": "code",
   "execution_count": null,
   "id": "ae492c7f",
   "metadata": {},
   "outputs": [],
   "source": [
    "#short words/apostrophe lookup\n",
    "contraction_dict1 = {\"Â\":\"\",\"’\":\"'\",\"Ã\":\"\"}\n",
    "contraction_dict2 = {\"Â\":\"\",\"’\":\"'\",\"ain't\": \"are not\",\"'s\":\" is\",\"aren't\": \"are not\",\"don't\": \"do not\",\"Don't\":\"Do not\",\n",
    "                     \"I'll\":\"I will\",\"Didn't\":\"Did not\",\"hasn't\":\"has not\",\"NYC\":\"New York City\",\"16MAR20\":\"\",\n",
    "                     \"I'd\":\"I would\",\"I've\":\"I have\",\"you're\":\"you are\",\"I'm\":\"I am\",\"it's\":\"it is\",\n",
    "                     \"#NZ\":\"\",\"they'll\":\"they will\",\"they're\":\"they are\",\"can't\":\"can not\",\"Y'all\":\"You All\",\n",
    "                     \"I m\":\"I am\",\"can't\":\"can not\",\"don t\":\"do not\",\"I ve\":\"I have\",\"we're\":\"we are\",\n",
    "                     \"LOL\":\"lough out loud\",\"lol\":\"lough out loud\",\"FYI\":\"For your information\",\"OFC\":\"Of Course\",\"ofc\":\"Of Course\",\n",
    "                     \"#coronavirÃ¼s\":\"coronavirus\",\"pls\":\"please\",\"#stayhomesavelives\":\"stay home save lives\",\n",
    "                     \"hasn't\": 'has not',\"haven't\": 'have not',\"he'd\": 'he had / he would',\"he'd've\": 'he would have',\n",
    "                     \"he'll\": 'he shall / he will',\"he'll've\": 'he shall have / he will have',\n",
    "                     \"he's\": 'he has / he is',\"how'd\": 'how did', \"how'd'y\": 'how do you', \"how'll\": 'how will',\n",
    "                     \"how's\": 'how has / how is', \"i'd\": 'I had / I would',\"i'd've\": 'I would have',  \"i'll\": 'I shall / I will',\n",
    "                     \"i'll've\": 'I shall have / I will have',\"i'm\": 'I am', \"i've\": 'I have', \"isn't\": 'is not', \"it'd\": 'it had / it would',\n",
    "                     \"it'd've\": 'it would have', \"it'll\": 'it shall / it will',\n",
    "                     \"it'll've\": 'it shall have / it will have',\"it's\": 'it has / it is', \"let's\": 'let us',\n",
    "                     \"ma'am\": 'madam', \"mayn't\": 'may not',\n",
    "                     \"might've\": 'might have', \"mightn't\": 'might not',\n",
    "                     \"mightn't've\": 'might not have', \"must've\": 'must have',\"mustn't\": 'must not',\n",
    "                     \"mustn't've\": 'must not have', \"needn't\": 'need not',\n",
    "                     \"needn't've\": 'need not have', \"o'clock\": 'of the clock',\n",
    "                     \"oughtn't\": 'ought not', \"oughtn't've\": 'ought not have',\n",
    "                     \"shan't\": 'shall not', \"sha'n't\": 'shall not',\n",
    "                     \"shan't've\": 'shall not have', \"she'd\": 'she had / she would',\n",
    "                     \"she'd've\": 'she would have', \"she'll\": 'she shall / she will',\n",
    "                     \"she'll've\": 'she shall have / she will have',\n",
    "                     \"she's\": 'she has / she is', \"should've\": 'should have',\n",
    "                     \"shouldn't\": 'should not',\"shouldn't've\": 'should not have',\n",
    "                     \"so've\": 'so have', \"so's\": 'so as / so is',\n",
    "                     \"that'd\": 'that would / that had',\"that'd've\": 'that would have',\n",
    "                     \"that's\": 'that has / that is', \"there'd\": 'there had / there would',\n",
    "                     \"there'd've\": 'there would have', \"there's\": 'there has / there is',\n",
    "                     \"they'd\": 'they had / they would',  \"they'd've\": 'they would have',\n",
    "                     \"they'll\": 'they shall / they will', \"they'll've\": 'they shall have / they will have',\n",
    "                     \"they're\": 'they are',  \"they've\": 'they have',\n",
    "                     \"to've\": 'to have', \"wasn't\": 'was not',\n",
    "                     \"we'd\": 'we had / we would',  \"we'd've\": 'we would have',\n",
    "                     \"we'll\": 'we will', \"we'll've\": 'we will have',\n",
    "                     \"we're\": 'we are', \"we've\": 'we have',\n",
    "                     \"weren't\": 'were not', \"what'll\": 'what shall / what will',\n",
    "                     \"what'll've\": 'what shall have / what will have',\n",
    "                     \"what're\": 'what are', \"what's\": 'what has / what is',\n",
    "                     \"what've\": 'what have',\"when's\": 'when has / when is',\n",
    "                     \"when've\": 'when have', \"where'd\": 'where did',\n",
    "                     \"where's\": 'where has / where is',\n",
    "                     \"where've\": 'where have', \"who'll\": 'who shall / who will',\n",
    "                     \"who'll've\": 'who shall have / who will have',\n",
    "                     \"who's\": 'who has / who is', \"who've\": 'who have',\n",
    "                     \"why's\": 'why has / why is', \"why've\": 'why have',\n",
    "                     \"will've\": 'will have', \"won't\": 'will not',\"won't've\": 'will not have',\n",
    "                     \"would've\": 'would have',\"wouldn't\": 'would not',\"wouldn't've\": 'would not have',\n",
    "                     \"y'all\": 'you all', \"y'all'd\": 'you all would',\n",
    "                     \"y'all'd've\": 'you all would have', \"y'all're\": 'you all are',\n",
    "                     \"y'all've\": 'you all have', \"you'd\": 'you had / you would',\n",
    "                     \"you'd've\": 'you would have',\"&amp\":\"and\",\"btc\":\"bitcoin\",\"irs\":\"\",\"spx\":\"\",\"📍\":\"\",\"✅\":\"\"\n",
    "                     }\n",
    "\n",
    "emoticons={':)': 'happy', ':‑)': 'happy',\n",
    " ':-]': 'happy', ':-3': 'happy',\n",
    " ':->': 'happy', '8-)': 'happy',\n",
    " ':-}': 'happy', ':o)': 'happy',\n",
    " ':c)': 'happy', ':^)': 'happy',\n",
    " '=]': 'happy', '=)': 'happy',\n",
    " '<3': 'happy', ':-(': 'sad',\n",
    " ':(': 'sad', ':c': 'sad',\n",
    " ':<': 'sad', ':[': 'sad',\n",
    " '>:[': 'sad', ':{': 'sad',\n",
    " '>:(': 'sad', ':-c': 'sad',\n",
    " ':-< ': 'sad', ':-[': 'sad',\n",
    " ':-||': 'sad',\n",
    "  '😢':'sad'         }\n",
    "\n",
    "myOwnStopWords={'price':\"\",\n",
    "               'store':\"\",\n",
    "               'supermarket':\"\",\n",
    "               'food':\"\",\n",
    "               'grocery':\"\",\n",
    "               'people':\"\",\n",
    "               'go':\"\",\n",
    "               'consumer':\"\",\n",
    "                'usdjpy':\"\", 'gbpusd':\"\", 'usdcnh':\"\", 'xauusd':\"\", 'wti':\"\", 'spx':\"\",'iave':\"\",\"aiave\":\"\"}"
   ]
  },
  {
   "cell_type": "markdown",
   "id": "87682d9d",
   "metadata": {},
   "source": [
    "Σκοπός δεν είναι να σβήσουμε τα emojis/emoticos αλλά να τα κάνουμε replace με την λέξη που δείχνουν. Με αυτόν τον τρόπο θα μπροούμε να κρατήσουμε το συναίσθημα που προβάλλουν. "
   ]
  },
  {
   "cell_type": "code",
   "execution_count": null,
   "id": "4b9cacc0",
   "metadata": {},
   "outputs": [],
   "source": [
    "def lookup_dict(text, dictionary):\n",
    "    if isinstance(text, float) == False and text is not None:\n",
    "        for word in text.split():\n",
    "            if word.lower() in dictionary:\n",
    "                if word.lower() in text.split():\n",
    "                    text = text.replace(word, dictionary[word.lower()])\n",
    "        return text"
   ]
  },
  {
   "cell_type": "code",
   "execution_count": null,
   "id": "5aa79833",
   "metadata": {},
   "outputs": [],
   "source": [
    "Παρακάτω ακολουθεί η επεξεργασία των δεδομένων, πριν προκύψουν τα τελικά features που θα χρησιμοποιήσει ο Classifier.\n",
    "Οι ενέργειες που γίνονται είναι:\n",
    "    1. lookup στα dictionaries που αναφέραμε για την αντικατάσταση ή διαγραφή λέξεων/emojis/emoticons\n",
    "    2. Διαγραφή θορύβου, όπως urls, hashtags, mentions, numbers etc.\n",
    "    3. Tokenization & αφαίρεση stopwords.\n",
    "    4. Part of speech tagging για να το χρησιμοποιήσουμε στην διαδικασία του Lemmatization.\n",
    "    5. Lemmatization.\n",
    "    6. Αποθήκευση των Cleaned/processed data σε DataFrame."
   ]
  },
  {
   "cell_type": "code",
   "execution_count": null,
   "id": "863b42db",
   "metadata": {},
   "outputs": [],
   "source": [
    "data[\"OriginalTweet\"] = data[\"OriginalTweet\"].apply(lambda x: lookup_dict(x,emoticons))\n",
    "\n",
    "data['OriginalTweet']=data['OriginalTweet'].apply(lambda x:lookup_dict(x,contraction_dict1))\n",
    "data['OriginalTweet']=data['OriginalTweet'].apply(lambda x:lookup_dict(x,contraction_dict2))\n",
    "\n",
    "data['OriginalTweet'] = data['OriginalTweet'].apply(lambda x: ''.join(''.join(s)[:2] for _, s in itertools.groupby(x)))\n",
    "\n",
    "\n",
    "#to lower case\n",
    "data['OriginalTweet']  = data['OriginalTweet'].str.lower()\n",
    "\n",
    "#remove numbers\n",
    "data[\"OriginalTweet\"] = data[\"OriginalTweet\"].replace('[0-9]', '', regex=True)\n",
    "\n",
    "#remove mentions\n",
    "data[\"OriginalTweet\"] = data[\"OriginalTweet\"].replace('@([a-zA-Z0-9_]{1,50})', '', regex=True)\n",
    "\n",
    "#remove hashtags\n",
    "data[\"OriginalTweet\"] = data[\"OriginalTweet\"].replace('#', '', regex=True)\n",
    "\n",
    "#remove urls\n",
    "data[\"OriginalTweet\"] = data[\"OriginalTweet\"].replace('http\\S+', '', regex=True)\n",
    "\n",
    "# # #remove all remaining bad chars\n",
    "data[\"OriginalTweet\"]=data[\"OriginalTweet\"].replace('[^\\\\w\\\\s]', '', regex=True)\n",
    "\n",
    "data[\"OriginalTweet\"]=data[\"OriginalTweet\"].replace(\"Â\", \"\", regex=True)\n",
    "data[\"OriginalTweet\"]=data[\"OriginalTweet\"].replace(\"â\", \"a\", regex=True)\n",
    "data[\"OriginalTweet\"]=data[\"OriginalTweet\"].replace(\"nz\", \"\", regex=True)\n",
    "data['OriginalTweet']  = data['OriginalTweet'].str.strip()\n",
    "\n",
    "\n",
    "data[\"OriginalTweet\"]=data[\"OriginalTweet\"].replace(\"_\", \"\", regex=True)\n",
    "data[\"OriginalTweet\"]=data[\"OriginalTweet\"].replace(\"   \", \" \", regex=True)\n",
    "data[\"OriginalTweet\"]=data[\"OriginalTweet\"].replace(\"  \", \" \", regex=True)\n",
    "\n",
    "data['OriginalTweet']  = data['OriginalTweet'].str.strip()\n",
    "data[\"OriginalTweet\"]=data[\"OriginalTweet\"].replace(\"coronavir¼\", \"coronavirus\", regex=True)\n",
    "data[\"OriginalTweet\"]=data[\"OriginalTweet\"].replace(\"pmmodi\", \"\", regex=True)\n",
    "data[\"OriginalTweet\"]=data[\"OriginalTweet\"].replace(\"amp\", \"and\", regex=True)\n",
    "data[\"OriginalTweet\"]=data[\"OriginalTweet\"].replace(\"btc\", \"bitcoin\", regex=True)\n",
    "data[\"OriginalTweet\"]=data[\"OriginalTweet\"].replace(\"hand\", \"\", regex=True)\n",
    "data[\"OriginalTweet\"]=data[\"OriginalTweet\"].fillna(0)\n",
    "\n",
    "data['OriginalTweet']  = data['OriginalTweet'].str.strip()\n",
    "\n",
    "#Tokenize the tweets\n",
    "tokenized_tweets = data[\"OriginalTweet\"].apply(lambda x: x.split())\n",
    "\n",
    "#remove stopword(for example and,to at etc)\n",
    "stop_words = set(stopwords.words('english'))\n",
    "tokenized_tweets = tokenized_tweets.apply(lambda x: [word for word in x if not word in stop_words])\n",
    "\n",
    "#Stemming the words\n",
    "# stemmer = PorterStemmer()#language='english'\n",
    "# tokenized_tweets= tokenized_tweets.apply(lambda x: [stemmer.stem(i) for i in x])\n",
    "\n",
    "def get_pos( word ):\n",
    "    w_synsets = wordnet.synsets(word)\n",
    "\n",
    "    pos_counts = nltk.Counter()\n",
    "    pos_counts[\"n\"] = len(  [ item for item in w_synsets if item.pos()==\"n\"]  )\n",
    "    pos_counts[\"v\"] = len(  [ item for item in w_synsets if item.pos()==\"v\"]  )\n",
    "    pos_counts[\"a\"] = len(  [ item for item in w_synsets if item.pos()==\"a\"]  )\n",
    "    pos_counts[\"r\"] = len(  [ item for item in w_synsets if item.pos()==\"r\"]  )\n",
    "\n",
    "    most_common_pos_list = pos_counts.most_common(3)\n",
    "    return most_common_pos_list[0][0]\n",
    "#get the lemma\n",
    "lemmatizer = WordNetLemmatizer()\n",
    "\n",
    "tokenized_tweets = tokenized_tweets.apply(lambda x: [lemmatizer.lemmatize(i,get_pos( i )) for i in x])\n",
    "\n",
    "tokenized_tweets = tokenized_tweets.apply(lambda x: [word for word in x if len(word)>2 or word=='go'])\n",
    "\n",
    "\n",
    "#Joining the tokenized tweets\n",
    "for i in range(len(tokenized_tweets)):\n",
    "    tokenized_tweets[i] = ' '.join(tokenized_tweets[i])\n",
    "data[\"OriginalTweet\"] = tokenized_tweets\n",
    "\n",
    "\n",
    "data['OriginalTweet']=data['OriginalTweet'].apply(lambda x:lookup_dict(x,myOwnStopWords))\n",
    "all_words = []\n",
    "for line in list(data['OriginalTweet']):\n",
    "    words = line.split()\n",
    "    for word in words:\n",
    "        all_words.append(word.lower())\n",
    "\n",
    "\n",
    "print(Counter(all_words).most_common(10))\n",
    "data[\"OriginalTweet\"]=data[\"OriginalTweet\"].replace(\"  \", \" \", regex=True)\n",
    "data[\"OriginalTweet\"]=data[\"OriginalTweet\"].replace(\" +\", \" \", regex=True)\n",
    "data['OriginalTweet']  = data['OriginalTweet'].str.strip()\n",
    "\n",
    "Y = data[\"Sentiment\"]"
   ]
  },
  {
   "cell_type": "code",
   "execution_count": null,
   "id": "09fc90c7",
   "metadata": {},
   "outputs": [],
   "source": [
    "Αφού τα επεξεργαστήκαμε, ακολουθεί η διαδικασία του feature selection & feature extraction.\n",
    "Θα χρησιμοποιήσουμε τη γνωστή TF-IDF διαδικασία, που έχει να κάνει με frequency των λέξεων/tokens στο Dataset για να μπορέσουμε να κάνουμε extract κάποια Features\n",
    "και να καταλήξουμε στο γνωστό Bag of Words. \n",
    "Χρησιμοποιούμε επίσης και unigrams & bi-grams. \n",
    "Αυτό το κάνουμε γιατί μερικά Features θα είχαν πιο πολύ νόημα όσον αφορά το συναίσθημα, εάν αποτελλούνται απο 2 tokens μαζί (bigrams).\n",
    "Για παράδειγμα:\n",
    "    Πρόταση: 'I don't like'\n",
    "        unigrams: I, do, not, like\n",
    "        bi-grams: I do, do not, not like\n",
    "Όπως βλέπουμε η λέξη Like απο μόνη της δείχνει συνήθως θετικό συναίσθημα ένω με την λέξη Not μπροστά δείχνει αρνητικό."
   ]
  },
  {
   "cell_type": "code",
   "execution_count": null,
   "id": "c41d379a",
   "metadata": {},
   "outputs": [],
   "source": [
    "tfidf_vectorizer = TfidfVectorizer(stop_words='english',max_features=22000,ngram_range=(1,2))\n",
    "tfidf = tfidf_vectorizer.fit_transform(data[\"OriginalTweet\"])\n",
    "print(tfidf.toarray().shape)"
   ]
  },
  {
   "cell_type": "markdown",
   "id": "45277cc0",
   "metadata": {},
   "source": [
    "όπως βλέπουμε έχουμε πάρα πολλές διαστάσεις να διαχειριστούμε και αυτό είναι πρόβλημα τόσο για την απόδοση του Classifier όσο και για τον χρόνο train/validation αλλά και prediction.\n"
   ]
  },
  {
   "cell_type": "code",
   "execution_count": null,
   "id": "80b3b6db",
   "metadata": {},
   "outputs": [],
   "source": [
    "sns.heatmap(tfidf.todense()[:,np.random.randint(0,tfidf.shape[1],100)]==0,vmin=0,vmax=1,cbar=False).set_title('Sparse Matrix')\n",
    "plt.show()"
   ]
  },
  {
   "cell_type": "markdown",
   "id": "9e9c1663",
   "metadata": {},
   "source": [
    "Απο το παραπάνω plot μπορούμε να δούμε οτι τα Feature μας είναι πολύ αρεά μεταξύ τους. Ο classifier πιθανώς να έχει πρόβλημα σε αυτό καθώς δεν θα μπορεί να κάνει το βέλτιστο heneralization. Επίσης θα πρέπει να μειωθούν, ώστε να μειώσουμε και τις διαστάσεις. Για να το πετύχουμε αυτό θα χρησιμοποιήσουμε την Chi-square στατιστική μέθοδο, η οποία λαμβάνει υπόψιν της την ανεξαρτησία των παρατηρήσεων. "
   ]
  },
  {
   "cell_type": "code",
   "execution_count": null,
   "id": "9ef5ff7c",
   "metadata": {},
   "outputs": [],
   "source": [
    "X_names = tfidf_vectorizer.get_feature_names_out()\n",
    "p_value_limit = 0.95\n",
    "#this feature selection is ranking features with respect to their usefulness and is not used to make statements about statistical dependence or independence of variables.\n",
    "features = pd.DataFrame()\n",
    "for cat in np.unique(data[\"Sentiment\"]):\n",
    "    chi2, p = feature_selection.chi2(tfidf,data[\"Sentiment\"]==cat)#chi2(tfidf,data[\"Sentiment\"]==cat)\n",
    "    features = features.append(pd.DataFrame({\"feature\":X_names,\"score\":1-p,\"Y\":cat}))\n",
    "    features = features.sort_values([\"Y\",\"score\"],ascending=[True,False])\n",
    "\n",
    "    features = features[features['score']>p_value_limit]\n",
    "\n",
    "X_scores = features[\"score\"].unique().tolist()\n",
    "X_names = features[\"feature\"].unique().tolist()\n",
    "print(X_names)\n",
    "\n",
    "\n",
    "for cat in np.unique(data[\"Sentiment\"]):\n",
    "    print(\"# {}:\".format(cat))\n",
    "    print(\" . selected features:\", len(features[features[\"Y\"]==cat]))\n",
    "    print(\" . top features:\",\",\".join(features[features[\"Y\"]==cat][\"feature\"].values[:20]))\n",
    "    # print(\" . top features scores:\",\",\".join(str(features[features[\"Y\"]==cat][\"score\"].values[:10])))\n",
    "    print(\" \")"
   ]
  },
  {
   "cell_type": "code",
   "execution_count": null,
   "id": "e780a207",
   "metadata": {},
   "outputs": [],
   "source": [
    "tfidf_vectorizer = feature_extraction.text.TfidfVectorizer(vocabulary=X_names,ngram_range=(1,2))\n",
    "tfidf_new = tfidf_vectorizer.fit_transform(data[\"OriginalTweet\"])\n",
    "joblib.dump(tfidf_vectorizer,'vectorizer.sav') #save the BoW model for future work\n",
    "print(tfidf_new.toarray().shape)\n",
    "dic_vocab = tfidf_vectorizer.vocabulary_\n",
    "\n",
    "sns.heatmap(tfidf_new.todense()[:,np.random.randint(0,tfidf_new.shape[1],100)]==0,vmin=0,vmax=1,cbar=False).set_title('Sparse Matrix')\n",
    "plt.show()"
   ]
  },
  {
   "cell_type": "markdown",
   "id": "cf463832",
   "metadata": {},
   "source": [
    "Μπορούμε να παρατηρήσουμε οτι τα Features έγιναν λιγότερο αρεά.\n",
    "Έτσι είμαστε έτοιμοι για την διαδικασία του train/validation. "
   ]
  },
  {
   "cell_type": "code",
   "execution_count": null,
   "id": "f73ebd42",
   "metadata": {},
   "outputs": [],
   "source": [
    "X_train2, X_test2, y_train2, y_test2 = model_selection.train_test_split(tfidf_new, Y, test_size=0.25,shuffle=True,random_state=0)\n",
    "\n",
    "clf2 = naive_bayes.ComplementNB(alpha=1.2).fit(X_train2,y_train2)\n",
    "y_pred = clf2.predict(X_test2)\n",
    "predicted_prob2 = clf2.predict_proba(X_test2)\n",
    "m_confusion_test = metrics.confusion_matrix(y_test2, clf2.predict(X_test2))\n",
    "print(\"NB\")\n",
    "print(pd.DataFrame(data = m_confusion_test , columns=['Predicted -1', 'Predicted 0','Predicted 1'],index=['Actual -1','Actual 0','Actual 1']))\n",
    "print(\"Accuracy:\",metrics.accuracy_score(y_test2, y_pred))\n",
    "print(metrics.classification_report(y_pred,y_test2))\n",
    "\n",
    "clf1 = svm.SVC(kernel='rbf',C=1000,gamma=0.01,probability=True).fit(X_train2,y_train2)\n",
    "y_pred = clf1.predict(X_test2)\n",
    "predicted_prob1 = clf1.predict_proba(X_test2)\n",
    "m_confusion_test = metrics.confusion_matrix(y_test2, clf1.predict(X_test2))\n",
    "print(\"SVM RBF\")\n",
    "print(pd.DataFrame(data = m_confusion_test , columns=['Predicted -1', 'Predicted 0','Predicted 1'],index=['Predicted -1', 'Predicted 0','Predicted 1']))\n",
    "print(\"Accuracy:\",metrics.accuracy_score(y_test2, y_pred))\n",
    "print(metrics.classification_report(y_pred,y_test2))\n",
    "\n",
    "for clf, label in zip([clf1, clf2],\n",
    "                      ['SVM',\n",
    "                       'Naive Bayes'\n",
    "                       ]):\n",
    "\n",
    "    scores = model_selection.cross_val_score(clf, X_train2, y_train2,\n",
    "                                             cv=3, scoring='accuracy')\n",
    "    print(\"Accuracy: %0.3f (+/- %0.3f) [%s]\"\n",
    "          % (scores.mean(), scores.std(), label))"
   ]
  },
  {
   "cell_type": "markdown",
   "id": "a19ae5d8",
   "metadata": {},
   "source": [
    "Η επιλογή των Hyper-parameters των μοντέλων επιλέχθηκε μετά απο την διαδικασία του GridSearchCV το οποίο κάνει ταυτόχρονα και Cross-Validation."
   ]
  },
  {
   "cell_type": "markdown",
   "id": "3446b2f5",
   "metadata": {},
   "source": [
    "# # SVM metrics"
   ]
  },
  {
   "cell_type": "code",
   "execution_count": null,
   "id": "f934d87f",
   "metadata": {},
   "outputs": [],
   "source": [
    "classes = np.unique(y_test2)\n",
    "y_test_array = pd.get_dummies(y_test2, drop_first=False).values\n",
    "\n",
    "## Accuracy, Precision, Recall\n",
    "accuracy = metrics.accuracy_score(y_test2, y_pred)\n",
    "fscore = metrics.f1_score(y_test2, y_pred, average='macro')\n",
    "auc = metrics.roc_auc_score(y_test2, predicted_prob1,\n",
    "                            multi_class=\"ovr\")\n",
    "print(\"Accuracy:\",  round(accuracy,2))\n",
    "print(\"macro F1:\",  round(fscore,2))\n",
    "print(\"Auc:\", round(auc,2))\n",
    "print(\"Detail:\")\n",
    "\n",
    "\n",
    "## Plot confusion matrix\n",
    "cm = metrics.confusion_matrix(y_test2, y_pred)\n",
    "fig, ax = plt.subplots()\n",
    "sns.heatmap(cm, annot=True, fmt='d', ax=ax, cmap=plt.cm.Blues,\n",
    "            cbar=False)\n",
    "ax.set(xlabel=\"Predicted\", ylabel=\"Actual\", xticklabels=classes,\n",
    "       yticklabels=classes, title=\"Confusion matrix\")\n",
    "plt.yticks(rotation=0)\n",
    "\n",
    "fig, ax = plt.subplots(nrows=1, ncols=2)\n",
    "## Plot roc\n",
    "for i in range(len(classes)):\n",
    "    fpr, tpr, thresholds = metrics.roc_curve(y_test_array[:,i],\n",
    "                                             predicted_prob1[:,i])\n",
    "    ax[0].plot(fpr, tpr, lw=3,\n",
    "               label='{0} (area={1:0.2f})'.format(classes[i],\n",
    "                                                  metrics.auc(fpr, tpr))\n",
    "               )\n",
    "ax[0].plot([0,1], [0,1], color='navy', lw=3, linestyle='--')\n",
    "ax[0].set(xlim=[-0.05,1.0], ylim=[0.0,1.05],\n",
    "          xlabel='False Positive Rate',\n",
    "          ylabel=\"True Positive Rate (Recall)\",\n",
    "          title=\"Receiver operating characteristic\")\n",
    "ax[0].legend(loc=\"lower right\")\n",
    "ax[0].grid(True)\n",
    "\n",
    "## Plot precision-recall curve\n",
    "for i in range(len(classes)):\n",
    "    precision, recall, thresholds = metrics.precision_recall_curve(\n",
    "        y_test_array[:,i], predicted_prob1[:,i])\n",
    "    ax[1].plot(recall, precision, lw=3,\n",
    "               label='{0} (area={1:0.2f})'.format(classes[i],\n",
    "                                                  metrics.auc(recall, precision))\n",
    "               )\n",
    "ax[1].set(xlim=[0.0,1.05], ylim=[0.0,1.05], xlabel='Recall',\n",
    "          ylabel=\"Precision\", title=\"Precision-Recall curve\")\n",
    "ax[1].legend(loc=\"best\")\n",
    "ax[1].grid(True)\n",
    "plt.show()\n"
   ]
  },
  {
   "cell_type": "markdown",
   "id": "8555d8c4",
   "metadata": {},
   "source": [
    "# # Naive Bayes metrics"
   ]
  },
  {
   "cell_type": "code",
   "execution_count": null,
   "id": "7cafed6c",
   "metadata": {},
   "outputs": [],
   "source": [
    "classes = np.unique(y_test2)\n",
    "y_test_array = pd.get_dummies(y_test2, drop_first=False).values\n",
    "\n",
    "## Accuracy, Precision, Recall\n",
    "accuracy = metrics.accuracy_score(, y_pred)\n",
    "fscore = metrics.f1_score(y_test2, y_pred, average='macro')\n",
    "auc = metrics.roc_auc_score(y_test2, predicted_prob2,\n",
    "                            multi_class=\"ovr\")\n",
    "print(\"Accuracy:\",  round(accuracy,2))\n",
    "print(\"macro F1:\",  round(fscore,2))\n",
    "print(\"Auc:\", round(auc,2))\n",
    "print(\"Detail:\")\n",
    "\n",
    "\n",
    "## Plot confusion matrix\n",
    "cm = metrics.confusion_matrix(y_test2, y_pred)\n",
    "fig, ax = plt.subplots()\n",
    "sns.heatmap(cm, annot=True, fmt='d', ax=ax, cmap=plt.cm.Blues,\n",
    "            cbar=False)\n",
    "ax.set(xlabel=\"Predicted\", ylabel=\"Actual\", xticklabels=classes,\n",
    "       yticklabels=classes, title=\"Confusion matrix\")\n",
    "plt.yticks(rotation=0)\n",
    "\n",
    "fig, ax = plt.subplots(nrows=1, ncols=2)\n",
    "## Plot roc\n",
    "for i in range(len(classes)):\n",
    "    fpr, tpr, thresholds = metrics.roc_curve(y_test_array[:,i],\n",
    "                                             predicted_prob2[:,i])\n",
    "    ax[0].plot(fpr, tpr, lw=3,\n",
    "               label='{0} (area={1:0.2f})'.format(classes[i],\n",
    "                                                  metrics.auc(fpr, tpr))\n",
    "               )\n",
    "ax[0].plot([0,1], [0,1], color='navy', lw=3, linestyle='--')\n",
    "ax[0].set(xlim=[-0.05,1.0], ylim=[0.0,1.05],\n",
    "          xlabel='False Positive Rate',\n",
    "          ylabel=\"True Positive Rate (Recall)\",\n",
    "          title=\"Receiver operating characteristic\")\n",
    "ax[0].legend(loc=\"lower right\")\n",
    "ax[0].grid(True)\n",
    "\n",
    "## Plot precision-recall curve\n",
    "for i in range(len(classes)):\n",
    "    precision, recall, thresholds = metrics.precision_recall_curve(\n",
    "        y_test_array[:,i], predicted_prob2[:,i])\n",
    "    ax[1].plot(recall, precision, lw=3,\n",
    "               label='{0} (area={1:0.2f})'.format(classes[i],\n",
    "                                                  metrics.auc(recall, precision))\n",
    "               )\n",
    "ax[1].set(xlim=[0.0,1.05], ylim=[0.0,1.05], xlabel='Recall',\n",
    "          ylabel=\"Precision\", title=\"Precision-Recall curve\")\n",
    "ax[1].legend(loc=\"best\")\n",
    "ax[1].grid(True)\n",
    "plt.show()"
   ]
  },
  {
   "cell_type": "markdown",
   "id": "55a23655",
   "metadata": {},
   "source": [
    "Απο τα παραπάνω Plots μπορούμε να παρατηρήσουμε οτι ο SVM με RBF kernel μπορεί καλύτερα να κάνει generalize τα δεδομένα μας."
   ]
  },
  {
   "cell_type": "markdown",
   "id": "0398f9c8",
   "metadata": {},
   "source": [
    "Ας αποθηκεύσουμε τα trained models για μελλοντική χρήση."
   ]
  },
  {
   "cell_type": "code",
   "execution_count": null,
   "id": "a32e04d3",
   "metadata": {},
   "outputs": [],
   "source": [
    "filenameSVCLinear = 'nb.sav'\n",
    "joblib.dump(clf2, filenameSVCLinear)\n",
    "filenameSVCLinearCV = 'SVC.sav'\n",
    "joblib.dump(clf1, filenameSVCLinearCV)"
   ]
  },
  {
   "cell_type": "markdown",
   "id": "24cfa960",
   "metadata": {},
   "source": [
    "# Διαδικασία Test σε unknown Data"
   ]
  },
  {
   "cell_type": "markdown",
   "id": "1f5dbe98",
   "metadata": {},
   "source": [
    "Θα ακολουθήσουμε την ίδια διαδικασία processing που ακολουθήσαμε για το training."
   ]
  },
  {
   "cell_type": "code",
   "execution_count": null,
   "id": "838f9607",
   "metadata": {},
   "outputs": [],
   "source": [
    "#read the test csv file\n",
    "data = pd.read_csv(r\"Corona_NLP_test.csv\", encoding='ansi')\n",
    "data[\"Sentiment\"] = data[\"Sentiment\"].replace('Extremely Negative', 'Negative', regex=True)\n",
    "\n",
    "data[\"Sentiment\"] = data[\"Sentiment\"].replace('Extremely Positive', 'Positive', regex=True)\n",
    "data[\"Sentiment\"]=data[\"Sentiment\"].replace('Negative', -1, regex=True)\n",
    "data[\"Sentiment\"]=data[\"Sentiment\"].replace('Positive', 1, regex=True)\n",
    "data[\"Sentiment\"]=data[\"Sentiment\"].replace('Neutral', 0, regex=True)\n",
    "#to lower case\n",
    "data[\"OriginalTweet\"] = data[\"OriginalTweet\"].apply(lambda x: lookup_dict(x,emoticons))\n",
    "\n",
    "data['OriginalTweet']=data['OriginalTweet'].apply(lambda x:lookup_dict(x,contraction_dict1))\n",
    "data['OriginalTweet']=data['OriginalTweet'].apply(lambda x:lookup_dict(x,contraction_dict2))\n",
    "\n",
    "data['OriginalTweet'] = data['OriginalTweet'].apply(lambda x: ''.join(''.join(s)[:2] for _, s in itertools.groupby(x)))\n",
    "\n",
    "\n",
    "#to lower case\n",
    "data['OriginalTweet']  = data['OriginalTweet'].str.lower()\n",
    "\n",
    "#remove numbers\n",
    "data[\"OriginalTweet\"] = data[\"OriginalTweet\"].replace('[0-9]', '', regex=True)\n",
    "\n",
    "#remove mentions\n",
    "data[\"OriginalTweet\"] = data[\"OriginalTweet\"].replace('@([a-zA-Z0-9_]{1,50})', '', regex=True)\n",
    "\n",
    "#remove hashtags\n",
    "data[\"OriginalTweet\"] = data[\"OriginalTweet\"].replace('#', '', regex=True)\n",
    "\n",
    "#remove urls\n",
    "data[\"OriginalTweet\"] = data[\"OriginalTweet\"].replace('http\\S+', '', regex=True)\n",
    "\n",
    "# # #remove all remaining bad chars\n",
    "data[\"OriginalTweet\"]=data[\"OriginalTweet\"].replace('[^\\\\w\\\\s]', '', regex=True)\n",
    "\n",
    "data[\"OriginalTweet\"]=data[\"OriginalTweet\"].replace(\"Â\", \"\", regex=True)\n",
    "data[\"OriginalTweet\"]=data[\"OriginalTweet\"].replace(\"â\", \"a\", regex=True)\n",
    "data[\"OriginalTweet\"]=data[\"OriginalTweet\"].replace(\"nz\", \"\", regex=True)\n",
    "data['OriginalTweet']  = data['OriginalTweet'].str.strip()\n",
    "\n",
    "\n",
    "data[\"OriginalTweet\"]=data[\"OriginalTweet\"].replace(\"_\", \"\", regex=True)\n",
    "data[\"OriginalTweet\"]=data[\"OriginalTweet\"].replace(\"   \", \" \", regex=True)\n",
    "data[\"OriginalTweet\"]=data[\"OriginalTweet\"].replace(\"  \", \" \", regex=True)\n",
    "data['OriginalTweet']  = data['OriginalTweet'].str.strip()\n",
    "data[\"OriginalTweet\"]=data[\"OriginalTweet\"].replace(\"coronavir¼\", \"coronavirus\", regex=True)\n",
    "data[\"OriginalTweet\"]=data[\"OriginalTweet\"].replace(\"pmmodi\", \"\", regex=True)\n",
    "data[\"OriginalTweet\"]=data[\"OriginalTweet\"].replace(\"amp\", \"and\", regex=True)\n",
    "data[\"OriginalTweet\"]=data[\"OriginalTweet\"].fillna(0)\n",
    "\n",
    "data['OriginalTweet']  = data['OriginalTweet'].str.strip()\n",
    "#Tokenize the tweets\n",
    "tokenized_tweets = data[\"OriginalTweet\"].apply(lambda x: x.split())\n",
    "\n",
    "#remove stopword(for example and,to at etc)\n",
    "stop_words = set(stopwords.words('english'))\n",
    "tokenized_tweets = tokenized_tweets.apply(lambda x: [word for word in x if not word in stop_words])\n",
    "\n",
    "# stemmer = PorterStemmer()#language='english'\n",
    "# tokenized_tweets= tokenized_tweets.apply(lambda x: [stemmer.stem(i) for i in x])\n",
    "\n",
    "lemmatizer = WordNetLemmatizer()\n",
    "tokenized_tweets = tokenized_tweets.apply(lambda x: [lemmatizer.lemmatize(i,get_pos( i )) for i in x])\n",
    "\n",
    "tokenized_tweets = tokenized_tweets.apply(lambda x: [word for word in x if len(word)>2 or word=='go'])\n",
    "# tokenized_tweets= tokenized_tweets.apply(lambda x: [stemmer.stem(i) for i in x])\n",
    "\n",
    "#Joining the tokenized tweets\n",
    "for i in range(len(tokenized_tweets)):\n",
    "    tokenized_tweets[i] = ' '.join(tokenized_tweets[i])\n",
    "data[\"OriginalTweet\"] = tokenized_tweets\n",
    "\n",
    "\n",
    "data['OriginalTweet']=data['OriginalTweet'].apply(lambda x:lookup_dict(x,myOwnStopWords))\n",
    "all_words = []\n",
    "for line in list(data['OriginalTweet']):\n",
    "    words = line.split()\n",
    "    for word in words:\n",
    "        all_words.append(word.lower())\n",
    "\n",
    "\n",
    "data[\"OriginalTweet\"]=data[\"OriginalTweet\"].replace(\"  \", \" \", regex=True)"
   ]
  },
  {
   "cell_type": "markdown",
   "id": "c6d5b733",
   "metadata": {},
   "source": [
    "Για το Feature extraction θα χρησιμοποιήσουμε το ίδιο μοντέλο BoW (TF-IDF) που χρησιμοποιήσαμε παραπάνω στο training."
   ]
  },
  {
   "cell_type": "code",
   "execution_count": null,
   "id": "7aa5e885",
   "metadata": {},
   "outputs": [],
   "source": [
    "tfidf= tfidf_vectorizer.transform(data[\"OriginalTweet\"])"
   ]
  },
  {
   "cell_type": "markdown",
   "id": "56932736",
   "metadata": {},
   "source": [
    "Ας πάμε να δούμε τα predictions kai τους χρόνους που χρειάζεται ένας αλγόριθμος για να κάνει το predict."
   ]
  },
  {
   "cell_type": "code",
   "execution_count": null,
   "id": "68d08f19",
   "metadata": {},
   "outputs": [],
   "source": [
    "start = time.time()\n",
    "y_pred= clf1.predict(tfidf)\n",
    "duration = time.time() - start\n",
    "print(\"SVM\")\n",
    "print(\"Accuracy:\",metrics.accuracy_score(data[\"Sentiment\"], y_pred))\n",
    "print(metrics.classification_report(y_pred,data[\"Sentiment\"]))\n",
    "print(\"Duration: \"+str(duration))\n",
    "\n",
    "start2 = time.time()\n",
    "y_pred2= clf2.predict(tfidf)\n",
    "duration2 = time.time() - start2\n",
    "print(\"NB\")\n",
    "print(\"Accuracy:\",metrics.accuracy_score(data[\"Sentiment\"], y_pred2))\n",
    "print(metrics.classification_report(y_pred2,data[\"Sentiment\"]))\n",
    "print(\"Duration: \"+str(duration2))\n"
   ]
  }
 ],
 "metadata": {
  "kernelspec": {
   "display_name": "Python 3 (ipykernel)",
   "language": "python",
   "name": "python3"
  },
  "language_info": {
   "codemirror_mode": {
    "name": "ipython",
    "version": 3
   },
   "file_extension": ".py",
   "mimetype": "text/x-python",
   "name": "python",
   "nbconvert_exporter": "python",
   "pygments_lexer": "ipython3",
   "version": "3.9.1"
  }
 },
 "nbformat": 4,
 "nbformat_minor": 5
}
